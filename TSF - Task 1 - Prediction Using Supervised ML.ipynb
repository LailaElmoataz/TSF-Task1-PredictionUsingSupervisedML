{
 "cells": [
  {
   "cell_type": "markdown",
   "id": "7d59b093",
   "metadata": {},
   "source": [
    "# Prediction Using Supervised ML"
   ]
  },
  {
   "cell_type": "markdown",
   "id": "1eeb0dae",
   "metadata": {},
   "source": [
    "- [Introduction](#intro)\n",
    "- [Data Exploration](#eda)\n",
    "- [Building the Model](#buildmodel)\n",
    "- [Model Evaluation](#evalmodel)\n",
    "- [Making Predictions on Unseen Data](#predict)"
   ]
  },
  {
   "cell_type": "markdown",
   "id": "6015c8c6",
   "metadata": {},
   "source": [
    "<a id='intro'></a>\n",
    "### Introduction </br><br>\n",
    "In this project, we will explore a dataset that tracks students' studying hours and their respective scores. We will use this data to build a regression model that predicts students scores based on how much time they spent studying. Finally, we will use the model we built to know what would be the predicted score if a student studied for 9.5 hours. <br><br>"
   ]
  },
  {
   "cell_type": "markdown",
   "id": "df84eff9",
   "metadata": {},
   "source": [
    "To get started let's import our libraries!"
   ]
  },
  {
   "cell_type": "code",
   "execution_count": 1,
   "id": "6fada4f5",
   "metadata": {},
   "outputs": [],
   "source": [
    "import pandas as pd\n",
    "\n",
    "import matplotlib.pyplot as plt\n",
    "import seaborn as sns\n",
    "%matplotlib inline\n",
    "\n",
    "from sklearn.model_selection import train_test_split\n",
    "from sklearn.linear_model import LinearRegression\n",
    "from sklearn.metrics import mean_absolute_error"
   ]
  },
  {
   "cell_type": "markdown",
   "id": "59427aaa",
   "metadata": {},
   "source": [
    "<a id='eda'></a>\n",
    "### Data Exploration"
   ]
  },
  {
   "cell_type": "markdown",
   "id": "ce2a198e",
   "metadata": {},
   "source": [
    "Now, let's load our data file and take a look at the first few rows of the data."
   ]
  },
  {
   "cell_type": "code",
   "execution_count": 2,
   "id": "43445eeb",
   "metadata": {},
   "outputs": [],
   "source": [
    "df = pd.read_csv('https://raw.githubusercontent.com/AdiPersonalWorks/Random/master/student_scores%20-%20student_scores.csv')"
   ]
  },
  {
   "cell_type": "code",
   "execution_count": 3,
   "id": "56962b39",
   "metadata": {},
   "outputs": [
    {
     "data": {
      "text/html": [
       "<div>\n",
       "<style scoped>\n",
       "    .dataframe tbody tr th:only-of-type {\n",
       "        vertical-align: middle;\n",
       "    }\n",
       "\n",
       "    .dataframe tbody tr th {\n",
       "        vertical-align: top;\n",
       "    }\n",
       "\n",
       "    .dataframe thead th {\n",
       "        text-align: right;\n",
       "    }\n",
       "</style>\n",
       "<table border=\"1\" class=\"dataframe\">\n",
       "  <thead>\n",
       "    <tr style=\"text-align: right;\">\n",
       "      <th></th>\n",
       "      <th>Hours</th>\n",
       "      <th>Scores</th>\n",
       "    </tr>\n",
       "  </thead>\n",
       "  <tbody>\n",
       "    <tr>\n",
       "      <th>0</th>\n",
       "      <td>2.5</td>\n",
       "      <td>21</td>\n",
       "    </tr>\n",
       "    <tr>\n",
       "      <th>1</th>\n",
       "      <td>5.1</td>\n",
       "      <td>47</td>\n",
       "    </tr>\n",
       "    <tr>\n",
       "      <th>2</th>\n",
       "      <td>3.2</td>\n",
       "      <td>27</td>\n",
       "    </tr>\n",
       "    <tr>\n",
       "      <th>3</th>\n",
       "      <td>8.5</td>\n",
       "      <td>75</td>\n",
       "    </tr>\n",
       "    <tr>\n",
       "      <th>4</th>\n",
       "      <td>3.5</td>\n",
       "      <td>30</td>\n",
       "    </tr>\n",
       "  </tbody>\n",
       "</table>\n",
       "</div>"
      ],
      "text/plain": [
       "   Hours  Scores\n",
       "0    2.5      21\n",
       "1    5.1      47\n",
       "2    3.2      27\n",
       "3    8.5      75\n",
       "4    3.5      30"
      ]
     },
     "execution_count": 3,
     "metadata": {},
     "output_type": "execute_result"
    }
   ],
   "source": [
    "df.head()"
   ]
  },
  {
   "cell_type": "markdown",
   "id": "f55feab6",
   "metadata": {},
   "source": [
    "Let's have a look at some summary statistics and check if we have any missing or duplicate data"
   ]
  },
  {
   "cell_type": "code",
   "execution_count": 4,
   "id": "ec75b05a",
   "metadata": {},
   "outputs": [
    {
     "data": {
      "text/html": [
       "<div>\n",
       "<style scoped>\n",
       "    .dataframe tbody tr th:only-of-type {\n",
       "        vertical-align: middle;\n",
       "    }\n",
       "\n",
       "    .dataframe tbody tr th {\n",
       "        vertical-align: top;\n",
       "    }\n",
       "\n",
       "    .dataframe thead th {\n",
       "        text-align: right;\n",
       "    }\n",
       "</style>\n",
       "<table border=\"1\" class=\"dataframe\">\n",
       "  <thead>\n",
       "    <tr style=\"text-align: right;\">\n",
       "      <th></th>\n",
       "      <th>Hours</th>\n",
       "      <th>Scores</th>\n",
       "    </tr>\n",
       "  </thead>\n",
       "  <tbody>\n",
       "    <tr>\n",
       "      <th>count</th>\n",
       "      <td>25.000000</td>\n",
       "      <td>25.000000</td>\n",
       "    </tr>\n",
       "    <tr>\n",
       "      <th>mean</th>\n",
       "      <td>5.012000</td>\n",
       "      <td>51.480000</td>\n",
       "    </tr>\n",
       "    <tr>\n",
       "      <th>std</th>\n",
       "      <td>2.525094</td>\n",
       "      <td>25.286887</td>\n",
       "    </tr>\n",
       "    <tr>\n",
       "      <th>min</th>\n",
       "      <td>1.100000</td>\n",
       "      <td>17.000000</td>\n",
       "    </tr>\n",
       "    <tr>\n",
       "      <th>25%</th>\n",
       "      <td>2.700000</td>\n",
       "      <td>30.000000</td>\n",
       "    </tr>\n",
       "    <tr>\n",
       "      <th>50%</th>\n",
       "      <td>4.800000</td>\n",
       "      <td>47.000000</td>\n",
       "    </tr>\n",
       "    <tr>\n",
       "      <th>75%</th>\n",
       "      <td>7.400000</td>\n",
       "      <td>75.000000</td>\n",
       "    </tr>\n",
       "    <tr>\n",
       "      <th>max</th>\n",
       "      <td>9.200000</td>\n",
       "      <td>95.000000</td>\n",
       "    </tr>\n",
       "  </tbody>\n",
       "</table>\n",
       "</div>"
      ],
      "text/plain": [
       "           Hours     Scores\n",
       "count  25.000000  25.000000\n",
       "mean    5.012000  51.480000\n",
       "std     2.525094  25.286887\n",
       "min     1.100000  17.000000\n",
       "25%     2.700000  30.000000\n",
       "50%     4.800000  47.000000\n",
       "75%     7.400000  75.000000\n",
       "max     9.200000  95.000000"
      ]
     },
     "execution_count": 4,
     "metadata": {},
     "output_type": "execute_result"
    }
   ],
   "source": [
    "df.describe()"
   ]
  },
  {
   "cell_type": "code",
   "execution_count": 5,
   "id": "efd93f18",
   "metadata": {},
   "outputs": [
    {
     "name": "stdout",
     "output_type": "stream",
     "text": [
      "<class 'pandas.core.frame.DataFrame'>\n",
      "RangeIndex: 25 entries, 0 to 24\n",
      "Data columns (total 2 columns):\n",
      " #   Column  Non-Null Count  Dtype  \n",
      "---  ------  --------------  -----  \n",
      " 0   Hours   25 non-null     float64\n",
      " 1   Scores  25 non-null     int64  \n",
      "dtypes: float64(1), int64(1)\n",
      "memory usage: 528.0 bytes\n"
     ]
    }
   ],
   "source": [
    "df.info()"
   ]
  },
  {
   "cell_type": "code",
   "execution_count": 6,
   "id": "11970749",
   "metadata": {},
   "outputs": [
    {
     "data": {
      "text/plain": [
       "0"
      ]
     },
     "execution_count": 6,
     "metadata": {},
     "output_type": "execute_result"
    }
   ],
   "source": [
    "df.duplicated().sum()"
   ]
  },
  {
   "cell_type": "markdown",
   "id": "d4ef731b",
   "metadata": {},
   "source": [
    ">We have a quite small sample of 25 observations. There is no missing data in either column, and no duplicates either."
   ]
  },
  {
   "cell_type": "code",
   "execution_count": 15,
   "id": "34213beb",
   "metadata": {},
   "outputs": [
    {
     "data": {
      "image/png": "[encoded data removed]",
      "text/plain": [
       "<Figure size 792x360 with 1 Axes>"
      ]
     },
     "metadata": {
      "needs_background": "light"
     },
     "output_type": "display_data"
    }
   ],
   "source": [
    "plt.figure(figsize = (11,5))\n",
    "sns.scatterplot(x = 'Hours', y = 'Scores', data = df, s = 300)\n",
    "plt.title('How does the number of studying hours affect students scores?', fontsize=15)\n",
    "plt.xlabel('Studying Hours', fontsize=12)\n",
    "plt.ylabel('Scores', fontsize=12);"
   ]
  },
  {
   "cell_type": "markdown",
   "id": "e4bd8726",
   "metadata": {},
   "source": [
    ">As expected, we can see a positive linear relationship between Studying Hours and Scores, which means that as students spend more hours studying, they should expect to get higher scores on average."
   ]
  },
  {
   "cell_type": "markdown",
   "id": "352e6d36",
   "metadata": {},
   "source": [
    "<a id='buildmodel'></a>\n",
    "### Building the Model"
   ]
  },
  {
   "cell_type": "code",
   "execution_count": 8,
   "id": "a1e5beed",
   "metadata": {},
   "outputs": [],
   "source": [
    "# prepare the data\n",
    "\n",
    "X = df['Hours'].values.reshape(-1,1)\n",
    "y = df['Scores'].values"
   ]
  },
  {
   "cell_type": "code",
   "execution_count": 9,
   "id": "66743fc3",
   "metadata": {},
   "outputs": [],
   "source": [
    "# split the data and train the model\n",
    "\n",
    "X_train, X_test, y_train, y_test = train_test_split(X, y, test_size = .2, random_state = 0)\n",
    "model = LinearRegression()\n",
    "model.fit(X_train, y_train)\n",
    "y_pred = model.predict(X_test)"
   ]
  },
  {
   "cell_type": "markdown",
   "id": "451b45a6",
   "metadata": {},
   "source": [
    "<a id='evalmodel'></a>\n",
    "### Model Evaluation"
   ]
  },
  {
   "cell_type": "code",
   "execution_count": 10,
   "id": "32f6369a",
   "metadata": {},
   "outputs": [
    {
     "name": "stdout",
     "output_type": "stream",
     "text": [
      "Goodness of fit = 0.9454906892105356\n",
      "Mean Absolute Error = 4.183859899002975\n"
     ]
    }
   ],
   "source": [
    "r_2 = model.score(X_test, y_test)\n",
    "mae = mean_absolute_error(y_test, y_pred)\n",
    "print('Goodness of fit = {}\\nMean Absolute Error = {}'.format(r_2, mae))"
   ]
  },
  {
   "cell_type": "markdown",
   "id": "266d5561",
   "metadata": {},
   "source": [
    "> ~95% of variation in scores could be explained by variation in studying hours <br>\n",
    "> On average, our predicted score is 4.18 points away from the actual score"
   ]
  },
  {
   "cell_type": "markdown",
   "id": "c7e050fd",
   "metadata": {},
   "source": [
    "<a id='predict'></a>\n",
    "### Making Predictions on Unseen Data"
   ]
  },
  {
   "cell_type": "code",
   "execution_count": 11,
   "id": "bc3b8d63",
   "metadata": {},
   "outputs": [
    {
     "data": {
      "text/html": [
       "<div>\n",
       "<style scoped>\n",
       "    .dataframe tbody tr th:only-of-type {\n",
       "        vertical-align: middle;\n",
       "    }\n",
       "\n",
       "    .dataframe tbody tr th {\n",
       "        vertical-align: top;\n",
       "    }\n",
       "\n",
       "    .dataframe thead th {\n",
       "        text-align: right;\n",
       "    }\n",
       "</style>\n",
       "<table border=\"1\" class=\"dataframe\">\n",
       "  <thead>\n",
       "    <tr style=\"text-align: right;\">\n",
       "      <th></th>\n",
       "      <th>Studying Hours</th>\n",
       "      <th>Actual Scores</th>\n",
       "      <th>Predicted Scores</th>\n",
       "    </tr>\n",
       "  </thead>\n",
       "  <tbody>\n",
       "    <tr>\n",
       "      <th>0</th>\n",
       "      <td>1.5</td>\n",
       "      <td>20</td>\n",
       "      <td>16.884145</td>\n",
       "    </tr>\n",
       "    <tr>\n",
       "      <th>1</th>\n",
       "      <td>3.2</td>\n",
       "      <td>27</td>\n",
       "      <td>33.732261</td>\n",
       "    </tr>\n",
       "    <tr>\n",
       "      <th>2</th>\n",
       "      <td>7.4</td>\n",
       "      <td>69</td>\n",
       "      <td>75.357018</td>\n",
       "    </tr>\n",
       "    <tr>\n",
       "      <th>3</th>\n",
       "      <td>2.5</td>\n",
       "      <td>30</td>\n",
       "      <td>26.794801</td>\n",
       "    </tr>\n",
       "    <tr>\n",
       "      <th>4</th>\n",
       "      <td>5.9</td>\n",
       "      <td>62</td>\n",
       "      <td>60.491033</td>\n",
       "    </tr>\n",
       "  </tbody>\n",
       "</table>\n",
       "</div>"
      ],
      "text/plain": [
       "   Studying Hours  Actual Scores  Predicted Scores\n",
       "0             1.5             20         16.884145\n",
       "1             3.2             27         33.732261\n",
       "2             7.4             69         75.357018\n",
       "3             2.5             30         26.794801\n",
       "4             5.9             62         60.491033"
      ]
     },
     "execution_count": 11,
     "metadata": {},
     "output_type": "execute_result"
    }
   ],
   "source": [
    "pd.DataFrame({'Studying Hours': X_test.reshape(-1),'Actual Scores': y_test, 'Predicted Scores': y_pred})"
   ]
  },
  {
   "cell_type": "code",
   "execution_count": 12,
   "id": "e942b0f0",
   "metadata": {},
   "outputs": [
    {
     "data": {
      "image/png": "[encoded data removed]",
      "text/plain": [
       "<Figure size 720x360 with 1 Axes>"
      ]
     },
     "metadata": {
      "needs_background": "light"
     },
     "output_type": "display_data"
    }
   ],
   "source": [
    "fig = plt.figure(figsize = (10,5))\n",
    "sns.scatterplot(x = X_test[:, 0], y = y_test, ci = None, label = 'Actual', s = 150)\n",
    "sns.regplot(x = X_test[:, 0], y = y_pred, ci = None, color = 'red', marker = 's', label = 'Predicted',\n",
    "            scatter_kws = {'s' : 150}, line_kws = {'lw' : 3.5})\n",
    "text = 'Scores = ({} * Studying Hours) + {}'.format(round(model.coef_[0],2), round(model.intercept_,2))\n",
    "plt.text(3.75, 30, text, fontsize = 12, fontweight = 'bold', bbox=dict(boxstyle=\"square\",facecolor='gray',alpha=.25))\n",
    "plt.xlim([0.5, 7.5])\n",
    "plt.title('Actual vs Predicted Scores', fontsize = 15)\n",
    "plt.xlabel('Studying Hours', fontsize = 12)\n",
    "plt.ylabel('Scores', fontsize = 12)\n",
    "plt.legend(fontsize = 11);"
   ]
  },
  {
   "cell_type": "markdown",
   "id": "1fe8eb03",
   "metadata": {},
   "source": [
    "#### What would be the predicted score if a student studied for 9.5 hours?"
   ]
  },
  {
   "cell_type": "code",
   "execution_count": 13,
   "id": "339c38b7",
   "metadata": {},
   "outputs": [
    {
     "name": "stdout",
     "output_type": "stream",
     "text": [
      "Predicted Score is: 96.17\n"
     ]
    }
   ],
   "source": [
    "print(f'Predicted Score is: {round(model.predict([[9.5]])[0], 2)}')"
   ]
  }
 ],
 "metadata": {
  "kernelspec": {
   "display_name": "Python 3",
   "language": "python",
   "name": "python3"
  },
  "language_info": {
   "codemirror_mode": {
    "name": "ipython",
    "version": 3
   },
   "file_extension": ".py",
   "mimetype": "text/x-python",
   "name": "python",
   "nbconvert_exporter": "python",
   "pygments_lexer": "ipython3",
   "version": "3.8.8"
  }
 },
 "nbformat": 4,
 "nbformat_minor": 5
}
